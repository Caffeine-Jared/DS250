{
  "cells": [
    {
      "cell_type": "raw",
      "metadata": {},
      "source": [
        "---\n",
        "title: \"Client Report - Late Flights\"\n",
        "subtitle: \"Course DS 250\"\n",
        "author: \"Jared Linares\"\n",
        "format:\n",
        "  html:\n",
        "    self-contained: true\n",
        "    page-layout: full\n",
        "    title-block-banner: true\n",
        "    toc: true\n",
        "    toc-depth: 3\n",
        "    toc-location: body\n",
        "    number-sections: false\n",
        "    html-math-method: katex\n",
        "    code-fold: true\n",
        "    code-summary: \"Show the code\"\n",
        "    code-overflow: wrap\n",
        "    code-copy: hover\n",
        "    code-tools:\n",
        "        source: false\n",
        "        toggle: true\n",
        "        caption: See code\n",
        "    \n",
        "---"
      ],
      "id": "67735873"
    },
    {
      "cell_type": "code",
      "metadata": {},
      "source": [
        "#| label: libraries\n",
        "#| include: false\n",
        "import pandas as pd\n",
        "import altair as alt\n",
        "import numpy as np\n",
        "\n",
        "from IPython.display import Markdown\n",
        "from IPython.display import display\n",
        "from tabulate import tabulate\n",
        "\n",
        "df = pd.read_json(\"https://raw.githubusercontent.com/jaredlinares/DS250/master/late_flights.json\")"
      ],
      "id": "libraries",
      "execution_count": null,
      "outputs": []
    },
    {
      "cell_type": "markdown",
      "metadata": {},
      "source": [
        "## Elevator pitch\n",
        "\n",
        "_paste your elevator pitch here_\n"
      ],
      "id": "7ad75b73"
    },
    {
      "cell_type": "code",
      "metadata": {},
      "source": [
        "best_month = df.groupby('month').mean()\n",
        "print(best_month.head())\n",
        "title1 = \"Average delay by month\"\n",
        "best_month_chart1 = alt.Chart(best_month, title=title1).mark_line().encode(\n",
        "    x = alt.X(\"month\", title=\"Month\", axis=alt.Axis(format=\"d\")),\n",
        "    y = alt.Y(\"minutes_delayed_total\", title=\"Average delay\"),\n",
        ")\n",
        "\n",
        "best_month_chart1"
      ],
      "id": "ebeb0dc6",
      "execution_count": null,
      "outputs": []
    },
    {
      "cell_type": "markdown",
      "metadata": {},
      "source": [
        "__Highlight the grand questions__\n",
        "\n",
        "## GRAND QUESTION 1\n",
        "\n",
        "__COPY PASTE GRAND QUESTION 1 FROM THE PROJECT HERE__\n",
        "\n",
        "_type your results and analysis here_\n"
      ],
      "id": "84e68ecf"
    },
    {
      "cell_type": "markdown",
      "metadata": {},
      "source": [
        "_include figures in chunks and discuss your findings in the figure._\n"
      ],
      "id": "64fb56e4"
    },
    {
      "cell_type": "markdown",
      "metadata": {},
      "source": [
        "## GRAND QUESTION 2\n",
        "\n",
        "__COPY PASTE GRAND QUESTION FROM THE PROJECT HERE__\n",
        "\n",
        "_type your results and analysis here_\n"
      ],
      "id": "b6d2ade0"
    },
    {
      "cell_type": "markdown",
      "metadata": {},
      "source": [
        "_include figures in chunks and discuss your findings in the figure._\n"
      ],
      "id": "16dcee05"
    },
    {
      "cell_type": "markdown",
      "metadata": {},
      "source": [
        "## GRAND QUESTION 3\n",
        "\n",
        "__COPY PASTE GRAND QUESTION FROM THE PROJECT HERE__\n",
        "\n",
        "_type your results and analysis here_\n"
      ],
      "id": "f3385d24"
    },
    {
      "cell_type": "markdown",
      "metadata": {},
      "source": [
        "_include figures in chunks and discuss your findings in the figure._\n"
      ],
      "id": "57ac9b72"
    },
    {
      "cell_type": "markdown",
      "metadata": {},
      "source": [
        "## APPENDIX A (Additional Python Code)\n",
        "\n",
        "```python\n",
        "#paste other your code from your python file (.py) here\n",
        "```"
      ],
      "id": "6acc7d03"
    }
  ],
  "metadata": {
    "kernelspec": {
      "name": "python3",
      "language": "python",
      "display_name": "Python 3 (ipykernel)"
    }
  },
  "nbformat": 4,
  "nbformat_minor": 5
}