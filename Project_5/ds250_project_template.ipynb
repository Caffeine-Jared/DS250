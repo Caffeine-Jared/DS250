{
  "cells": [
    {
      "cell_type": "raw",
      "metadata": {},
      "source": [
        "---\n",
        "title: \"Client Report - The war with Star Wars\"\n",
        "subtitle: \"Course DS 250\"\n",
        "author: \"Jared Linares\"\n",
        "format:\n",
        "  html:\n",
        "    self-contained: true\n",
        "    page-layout: full\n",
        "    title-block-banner: true\n",
        "    toc: true\n",
        "    toc-depth: 3\n",
        "    toc-location: body\n",
        "    number-sections: false\n",
        "    html-math-method: katex\n",
        "    code-fold: true\n",
        "    code-summary: \"Show the code\"\n",
        "    code-overflow: wrap\n",
        "    code-copy: hover\n",
        "    code-tools:\n",
        "        source: false\n",
        "        toggle: true\n",
        "        caption: See code\n",
        "    \n",
        "---"
      ],
      "id": "d3595258"
    },
    {
      "cell_type": "markdown",
      "metadata": {},
      "source": [
        "_THIS `.qmd` FILE SHOULD BE USED TO WRITE YOUR REPORT.  YOU WILL NEED TO COMPILE THE REPORT INTO A `.html` DOCUMENT AND SUBMIT IT ON CANVAS._\n"
      ],
      "id": "7088ad60"
    },
    {
      "cell_type": "code",
      "metadata": {},
      "source": [
        "#| label: libraries\n",
        "#| include: false\n",
        "import pandas as pd\n",
        "import altair as alt\n",
        "import numpy as np\n",
        "import seaborn as sns\n",
        "import matplotlib.pyplot as plt\n",
        "\n",
        "from sklearn.model_selection import train_test_split\n",
        "from sklearn import tree\n",
        "\n",
        "from sklearn import metrics\n",
        "from sklearn.metrics import roc_curve, auc, RocCurveDisplay\n",
        "\n",
        "from IPython.display import Markdown\n",
        "from IPython.display import display\n",
        "from tabulate import tabulate"
      ],
      "id": "libraries",
      "execution_count": null,
      "outputs": []
    },
    {
      "cell_type": "markdown",
      "metadata": {},
      "source": [
        "## Elevator pitch\n",
        "\n",
        "_A SHORT (4-5 SENTENCES) PARAGRAPH THAT `SUMMARIZES` THE WORK REQUESTED INCLUDING THE TOP RESULTS._\n",
        "\n",
        "_A Client has requested this analysis and  this is your one shot of  what you would say to your boss in a 2min elevator ride before he takes your report and hands it to the client._\n"
      ],
      "id": "bb62784f"
    },
    {
      "cell_type": "code",
      "metadata": {},
      "source": [
        "#| label: project data\n",
        "#| code-summary: Read and format project data\n",
        "# Include and execute your code here\n",
        "url = 'https://raw.githubusercontent.com/fivethirtyeight/data/master/star-wars-survey/StarWars.csv'\n",
        "df = pd.read_csv(url, encoding='ISO-8859-1')\n",
        "alt.data_transformers.disable_max_rows()\n",
        "alt.data_transformers.enable('data_server')"
      ],
      "id": "project-data",
      "execution_count": null,
      "outputs": []
    },
    {
      "cell_type": "markdown",
      "metadata": {},
      "source": [
        "__Highlight the grand questions__\n",
        "\n",
        "## GRAND QUESTION 1\n",
        "\n",
        "__Shorten the column names and clean them up for easier use with pandas. Provide a table or list that exemplifies how you fixed the names.__\n",
        "\n",
        "\n",
        "\n",
        "_Renaming the Columns_"
      ],
      "id": "c7cb4838"
    },
    {
      "cell_type": "code",
      "metadata": {},
      "source": [
        "#| label: GQ1\n",
        "#| code-summary: Read and format data\n",
        "# Include and execute your code here\n",
        "column_df = pd.DataFrame({'header1': df.columns, \"header2\": df.iloc[0, :]}).reset_index(drop=True)\n",
        "column_df.header1[1] = \"star_wars_watched\"\n",
        "column_df.header1[2] = \"star_wars_fan\"\n",
        "column_df.header1[3] = \"have_you_seen_\"\n",
        "column_df.header1[9] = \"rank_movie_\"\n",
        "column_df.header1[15] = \"favorable_character_\"\n",
        "column_df.header1[29] = \"shot_first\"\n",
        "column_df.header1[30] = \"expanded_universe_familiar\"\n",
        "column_df.header1[31] = \"expanded_universe_fan\"\n",
        "column_df.header1[32] = \"star_trek_fan\"\n",
        "column_df.header1[35] = \"household_income\"\n",
        "column_df.header1[37] = \"location\"\n",
        "\n",
        "column_df.header2[3] = \"episode_1\"\n",
        "column_df.header2[4] = \"episode_2\"\n",
        "column_df.header2[5] = \"episode_3\"\n",
        "column_df.header2[6] = \"episode_4\"\n",
        "column_df.header2[7] = \"episode_5\"\n",
        "column_df.header2[8] = \"episode_6\"\n",
        "column_df.header2[9] = \"episode_1\"\n",
        "column_df.header2[10] = \"episode_2\"\n",
        "column_df.header2[11] = \"episode_3\"\n",
        "column_df.header2[12] = \"episode_4\"\n",
        "column_df.header2[13] = \"episode_5\"\n",
        "column_df.header2[14] = \"episode_6\"\n",
        "column_df.header2[15] = \"Han_Solo\"\n",
        "column_df.header2[16] = \"Luke_Skywalker\"\n",
        "column_df.header2[17] = \"Princess_Leia\"\n",
        "column_df.header2[18] = \"Anakin_Skywalker\"\n",
        "column_df.header2[19] = \"Obi_Wan_Kenobi\"\n",
        "column_df.header2[20] = \"Emperor_Palpatine\"\n",
        "column_df.header2[21] = \"Darth_Vader\"\n",
        "column_df.header2[22] = \"Lando_Calrissian\"\n",
        "column_df.header2[23] = \"Boba_Fett\"\n",
        "column_df.header2[24] = \"C_3P0\"\n",
        "column_df.header2[25] = \"R2_D2\"\n",
        "column_df.header2[26] = \"Jar_Jar_Binks\"\n",
        "column_df.header2[27] = \"Padme_Amidala\"\n",
        "\n",
        "column_df.replace([\"Unnamed:\", \"Response\"], np.nan, regex=True, inplace=True)\n",
        "column_df.header2.fillna(\"\", inplace=True)\n",
        "\n",
        "column_df.ffill(inplace=True)\n",
        "\n",
        "header = column_df.header1 + column_df.header2\n",
        "\n",
        "df = pd.read_csv(url, encoding='ISO-8859-1', header=None, skiprows=2, names=header)"
      ],
      "id": "GQ1",
      "execution_count": null,
      "outputs": []
    },
    {
      "cell_type": "markdown",
      "metadata": {},
      "source": [
        "_Table of Column Names_"
      ],
      "id": "c09a25fe"
    },
    {
      "cell_type": "code",
      "metadata": {},
      "source": [
        "header"
      ],
      "id": "076d8868",
      "execution_count": null,
      "outputs": []
    },
    {
      "cell_type": "markdown",
      "metadata": {},
      "source": [
        "## GRAND QUESTION 2\n",
        "\n",
        "__Clean and format the data so that it can be used in a machine learning model. As you format the data, you should complete each item listed below. In your final report provide example(s) of the reformatted data with a short description of the changes made.__\n",
        "\n",
        "_Filter the dataset to respondents that have seen at least one film._\n"
      ],
      "id": "e0b37a41"
    },
    {
      "cell_type": "code",
      "metadata": {},
      "source": [
        "columns_to_convert = ['star_wars_watched', 'star_wars_fan', 'expanded_universe_familiar', 'expanded_universe_fan', 'star_trek_fan']\n",
        "for col in columns_to_convert:\n",
        "    df[col] = df[col].replace({'Yes': 1, 'No': 0})\n",
        "\n",
        "columns_to_mean = ['star_wars_watched', 'star_wars_fan', 'expanded_universe_familiar', 'expanded_universe_fan', 'star_trek_fan']\n",
        "mean_values = df[columns_to_mean].mean()\n",
        "\n",
        "df[columns_to_mean] = df[columns_to_mean].fillna(mean_values)\n",
        "\n",
        "df = df[df['star_wars_watched'] == 1]\n",
        "\n",
        "episodes_seen = ['have_you_seen_episode_1', 'have_you_seen_episode_2', 'have_you_seen_episode_3', 'have_you_seen_episode_4', 'have_you_seen_episode_5', 'have_you_seen_episode_6']\n",
        "for col in episodes_seen:\n",
        "    df[col] = df[col].replace({'^.*Star Wars.*$': 1}, regex=True)\n",
        "    df[col] = df[col].fillna(0)\n",
        "\n",
        "df_movies = df[episodes_seen]\n",
        "df_movies = df_movies.loc[~(df_movies == 0).all(axis=1)]\n",
        "\n",
        "df_shot_first = df[df['shot_first'].notnull()]\n",
        "\n",
        "\n",
        "df.head(5)\n"
      ],
      "id": "65e7524d",
      "execution_count": null,
      "outputs": []
    },
    {
      "cell_type": "markdown",
      "metadata": {},
      "source": [
        "_Create a new column that converts the age ranges to a single number. Drop the age range categorical column._\n"
      ],
      "id": "ed2385bc"
    },
    {
      "cell_type": "code",
      "metadata": {},
      "source": [
        "df = df.dropna(subset=['Gender'])\n",
        "df['Gender'] = df['Gender'].replace({'^.*Male.*$': 1, '^.*Female.*$': 0}, regex=True)\n",
        "\n",
        "df['Age'] = df['Age'].replace({'^.*18-29.*$': 1, '^.*30-44.*$': 2, '^.*45-60.*$': 3, '^.*> 60.*$': 4}, regex=True)\n",
        "\n",
        "df['Age'].value_counts(dropna=False)\n"
      ],
      "id": "fa0ae367",
      "execution_count": null,
      "outputs": []
    },
    {
      "cell_type": "markdown",
      "metadata": {},
      "source": [
        "_Create a new column that converts the education groupings to a single number. Drop the school categorical column_\n"
      ],
      "id": "33839f98"
    },
    {
      "cell_type": "code",
      "metadata": {},
      "source": [
        "df['Education'] = df['Education'].replace({\n",
        "    '^Bachelor degree$': 1,\n",
        "    '^High school degree$': 2,\n",
        "    '^Some college or Associate degree$': 3,\n",
        "    '^Graduate degree$': 4,\n",
        "    '^Less than high school degree$': 5,\n",
        "    np.nan: 6\n",
        "}, regex=True)\n",
        "\n",
        "df['Education'].value_counts(dropna=False)"
      ],
      "id": "c8ce5cf2",
      "execution_count": null,
      "outputs": []
    },
    {
      "cell_type": "markdown",
      "metadata": {},
      "source": [
        "_Create a new column that converts the income ranges to a single number. Drop the income range categorical column._\n"
      ],
      "id": "c6d9ad6c"
    },
    {
      "cell_type": "code",
      "metadata": {},
      "source": [
        "df['household_income'].fillna(0, inplace=True)\n",
        "\n",
        "df['household_income'] = df['household_income'].replace({\n",
        "    '$0 - $24,999': 1,\n",
        "    '$25,000 - $49,999': 2,\n",
        "    '$50,000 - $99,999': 3,\n",
        "    '$100,000 - $149,999': 4,\n",
        "    '$150,000+': 5,\n",
        "})\n",
        "\n",
        "df['household_income'] = df['household_income'].astype(float)\n",
        "\n",
        "\n",
        "\n",
        "df['household_income'].value_counts(dropna=False)\n"
      ],
      "id": "d0a1e8b5",
      "execution_count": null,
      "outputs": []
    },
    {
      "cell_type": "markdown",
      "metadata": {},
      "source": [
        "_Create your target (also known as “y” or “label”) column based on the new income range column._\n"
      ],
      "id": "a365de34"
    },
    {
      "cell_type": "code",
      "metadata": {},
      "source": [
        "df['target'] = (df['household_income'] >= 3).astype(int)\n",
        "\n",
        "df['target'].value_counts(dropna=False)\n"
      ],
      "id": "8ae87c2e",
      "execution_count": null,
      "outputs": []
    },
    {
      "cell_type": "markdown",
      "metadata": {},
      "source": [
        "_One-hot encode all remaining categorical columns._\n"
      ],
      "id": "88d506c5"
    },
    {
      "cell_type": "code",
      "metadata": {},
      "source": [
        "dummies = pd.get_dummies(df['location'], prefix='Location_')\n",
        "\n",
        "df = pd.concat([df, dummies], axis=1)\n",
        "\n",
        "\n",
        "df.drop('location', axis=1, inplace=True)\n",
        "\n",
        "\n",
        "df.head()\n"
      ],
      "id": "00aa48b0",
      "execution_count": null,
      "outputs": []
    },
    {
      "cell_type": "markdown",
      "metadata": {},
      "source": [
        "## GRAND QUESTION 3\n",
        "\n",
        "__Validate that the data provided on GitHub lines up with the article by recreating 2 of the visuals from the article.__\n",
        "\n",
        "_Chart 1_\n"
      ],
      "id": "15cf3109"
    },
    {
      "cell_type": "code",
      "metadata": {},
      "source": [
        "total_count = len(df_shot_first)\n",
        "\n",
        "df_count = df_shot_first.groupby('shot_first').size().reset_index(name='count')\n",
        "df_count['shot_first'] = df_count['shot_first'].replace({0: \"I don't understand this question\", 1: \"Han Solo\", 2: \"Greedo\"})\n",
        "df_count['percentage'] = df_count['count'] / total_count * 100\n",
        "\n",
        "\n",
        "title = \"Who Shot First?\"\n",
        "bars = ['Han Solo', 'Greedo', \"I don't understand this question\"]\n",
        "\n",
        "chart = alt.Chart(df_count).mark_bar().encode(\n",
        "    x=alt.X('percentage:Q', title='Percentage'),\n",
        "    y=alt.Y('shot_first:N', sort=bars, title=None),\n",
        "    tooltip=[alt.Tooltip('percentage:Q', format='.1f')],\n",
        ").properties(\n",
        "    title=title,\n",
        ")\n",
        "\n",
        "chart\n"
      ],
      "id": "2d85f89b",
      "execution_count": null,
      "outputs": []
    },
    {
      "cell_type": "markdown",
      "metadata": {},
      "source": [
        "_Chart 2_\n"
      ],
      "id": "bcf3e163"
    },
    {
      "cell_type": "code",
      "metadata": {},
      "source": [
        "df_movies = df[episodes_seen]\n",
        "df_movies = df_movies.loc[~(df_movies == 0).all(axis=1)]\n",
        "\n",
        "film_names = {\n",
        "    1: 'The Phantom Menace',\n",
        "    2: 'Attack of the Clones',\n",
        "    3: 'Revenge of the Sith',\n",
        "    4: 'A New Hope',\n",
        "    5: 'The Empire Strikes Back',\n",
        "    6: 'Return of the Jedi'\n",
        "}\n",
        "\n",
        "# Calculate the sum of each column\n",
        "episodes_sum = {col: df_movies[col].sum() for col in episodes_seen}\n",
        "\n",
        "# Calculate the percentage of respondents who watched each episode\n",
        "episodes_percentages = {film_names[int(episode[-1])]: count / len(df_movies) * 100 for episode, count in episodes_sum.items()}\n",
        "\n",
        "# Create the chart\n",
        "chart_data = pd.DataFrame({'Film': list(episodes_percentages.keys()), 'Percentage': list(episodes_percentages.values())})\n",
        "\n",
        "chart = alt.Chart(chart_data).mark_bar().encode(\n",
        "    x=alt.X('Percentage:Q', title='Percentage of Respondents who Watched'),\n",
        "    y=alt.Y('Film:N', title=None, sort=list(film_names.values())),\n",
        "    tooltip=[alt.Tooltip('Percentage:Q', format='.2f')]\n",
        ").properties(title=\"Which 'Star Wars' Films Have You Seen?\")\n",
        "\n",
        "chart\n"
      ],
      "id": "421ad173",
      "execution_count": null,
      "outputs": []
    },
    {
      "cell_type": "markdown",
      "metadata": {},
      "source": [
        "## GRAND QUESTION 4\n",
        "\n",
        "__Build a machine learning model that predicts whether a person makes more than $50k. Describe your model and report the accuracy.__\n",
        "\n",
        "_Model_\n"
      ],
      "id": "c85c612b"
    },
    {
      "cell_type": "code",
      "metadata": {},
      "source": [
        "X_pred = df.filter(regex='Education|household_income|Age')\n",
        "y_pred = df.filter(regex = 'target')\n",
        "X_train, X_test, y_train, y_test = train_test_split(\n",
        "X_pred, y_pred, test_size = .34, random_state = 76)  \n",
        "\n",
        "clf = tree.DecisionTreeClassifier()\n",
        "clf = clf.fit(X_train, y_train)\n",
        "y_pred = clf.predict(X_test)\n",
        "y_probs = clf.predict_proba(X_test)\n"
      ],
      "id": "00fc2e74",
      "execution_count": null,
      "outputs": []
    },
    {
      "cell_type": "code",
      "metadata": {},
      "source": [
        "print(metrics.classification_report(y_pred, y_test))"
      ],
      "id": "1ebbdcc7",
      "execution_count": null,
      "outputs": []
    },
    {
      "cell_type": "markdown",
      "metadata": {},
      "source": [
        "_Accuracy_\n"
      ],
      "id": "93342923"
    },
    {
      "cell_type": "code",
      "metadata": {},
      "source": [
        "clf = tree.DecisionTreeClassifier()\n",
        "clf = clf.fit(X_train, y_train)\n",
        "\n",
        "y_probs = clf.predict_proba(X_test)[:, 1]\n",
        "fpr, tpr, thresholds = roc_curve(y_test, y_probs)\n",
        "\n",
        "\n",
        "roc_auc = auc(fpr, tpr)\n",
        "\n",
        "\n",
        "roc_display = RocCurveDisplay(fpr=fpr, tpr=tpr, roc_auc=roc_auc, estimator_name='Decision Tree')\n",
        "roc_display.plot()\n",
        "plt.show()"
      ],
      "id": "614fdbbc",
      "execution_count": null,
      "outputs": []
    },
    {
      "cell_type": "code",
      "metadata": {},
      "source": [
        "df_features = pd.DataFrame(\n",
        "    {'f_names': X_train.columns, \n",
        "    'f_values': clf.feature_importances_}).sort_values('f_values', ascending = False)"
      ],
      "id": "67d020c5",
      "execution_count": null,
      "outputs": []
    },
    {
      "cell_type": "code",
      "metadata": {},
      "source": [
        "(alt.Chart(df_features.query('f_values > .011'))\n",
        "    .encode(\n",
        "        alt.X('f_values'),\n",
        "        alt.Y('f_names', sort = '-x'))\n",
        "    .mark_bar())"
      ],
      "id": "60dbc95e",
      "execution_count": null,
      "outputs": []
    }
  ],
  "metadata": {
    "kernelspec": {
      "name": "python3",
      "language": "python",
      "display_name": "Python 3 (ipykernel)"
    }
  },
  "nbformat": 4,
  "nbformat_minor": 5
}