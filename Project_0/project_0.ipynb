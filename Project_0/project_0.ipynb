{
  "cells": [
    {
      "cell_type": "raw",
      "metadata": {},
      "source": [
        "---\n",
        "title: \"Project 0 - Introduction\"\n",
        "subtitle: \"Course DS 250\"\n",
        "author: \"Jared Linares\"\n",
        "format:\n",
        "  html:\n",
        "    self-contained: true\n",
        "    page-layout: full\n",
        "    title-block-banner: true\n",
        "    toc: true\n",
        "    toc-depth: 3\n",
        "    toc-location: body\n",
        "    number-sections: false\n",
        "    html-math-method: katex\n",
        "    code-fold: true\n",
        "    code-summary: \"Show the code\"\n",
        "    code-overflow: wrap\n",
        "    code-copy: hover\n",
        "    code-tools:\n",
        "        source: false\n",
        "        toggle: true\n",
        "        caption: See code\n",
        "    \n",
        "---"
      ],
      "id": "bfe54235"
    },
    {
      "cell_type": "code",
      "metadata": {},
      "source": [
        "#| label: libraries\n",
        "#| include: false\n",
        "import pandas as pd\n",
        "import altair as alt"
      ],
      "id": "libraries",
      "execution_count": null,
      "outputs": []
    },
    {
      "cell_type": "markdown",
      "metadata": {},
      "source": [
        "## Elevator pitch\n",
        "\n",
        "The findings from the reading and the code are simple, it shows that the newer the model year, the better the mpg. Additionally, the data sets show an inverse relationship between 'hwy' and 'displ' in the mpg dataset. This inverse relationship shows how the higher the displacement of the car, the lower the highway mileage.\n"
      ],
      "id": "1458dece"
    },
    {
      "cell_type": "code",
      "metadata": {},
      "source": [
        "#| label: project data\n",
        "#| code-summary: Read and format project data\n",
        "# Include and execute your code here\n",
        "url = \"https://github.com/byuidatascience/data4python4ds/raw/master/data-raw/mpg/mpg.csv\"\n",
        "mpg = pd.read_csv(url)\n"
      ],
      "id": "project-data",
      "execution_count": null,
      "outputs": []
    },
    {
      "cell_type": "markdown",
      "metadata": {},
      "source": [
        "## GRAND QUESTION 1\n",
        "\n",
        "__Finish the readings and be prepared with any questions to get your environment working smoothly (class for on-campus and Slack for online)__\n",
        "\n",
        "I did all the readings and asked my questions on the slack channel\n",
        "\n",
        "## GRAND QUESTION 2\n",
        "\n",
        "__In VS Code, write a python script to create the example Altair chart from section 3.2.2 of the textbook (part of the assigned readings). Note that you have to type chart to see the Altair chart after you create it.__\n",
        "\n",
        "In the code chunk below, I created a plot graph that shows the inverse relationship between 'hwy' and 'displ' in the mpg dataset. It shows how the higher the displacement of the car, the lower the highway mileage. \n"
      ],
      "id": "0a38c2ed"
    },
    {
      "cell_type": "code",
      "metadata": {},
      "source": [
        "    #| label: GQ2 chart\n",
        "    #| code-summary: Read and format data\n",
        "    #| fig-cap: plot graph\"\n",
        "    # Include and execute your code here\n",
        "chart = alt.Chart(mpg).mark_circle().encode(\n",
        "    x='displ', \n",
        "    y='hwy'\n",
        "    )\n",
        "\n",
        "chart"
      ],
      "id": "49b07ffb",
      "execution_count": null,
      "outputs": []
    },
    {
      "cell_type": "markdown",
      "metadata": {},
      "source": [
        "## GRAND QUESTION 3\n",
        "\n",
        "__Your final report should also include the markdown table created from the following (assuming you have mpg from question 2).__\n",
        "\n",
        "In this chart, the relationships between the manufacturer, model, year, and highway mileage are shown. The first five rows of the data are shown. Of the rows, the data shows that the newer the model year, the better the mpg.\n"
      ],
      "id": "d2cc29b6"
    },
    {
      "cell_type": "code",
      "metadata": {},
      "source": [
        "#| label: GQ3 code\n",
        "#| code-summary: Read and format data\n",
        "# Include and execute your code here\n",
        "\n",
        "(mpg\n",
        "    .head(5)\n",
        "    .filter([\"manufacturer\", \"model\",\"year\", \"hwy\"]))"
      ],
      "id": "GQ3-code",
      "execution_count": null,
      "outputs": []
    },
    {
      "cell_type": "markdown",
      "metadata": {},
      "source": [
        "## APPENDIX A (Additional Python Code)\n",
        "\n",
        "```python\n",
        "#paste other your code from your python file (.py) here\n",
        "#%%\n",
        "import pandas as pd\n",
        "import altair as alt\n",
        "\n",
        "url = \"https://github.com/byuidatascience/data4python4ds/raw/master/data-raw/mpg/mpg.csv\"\n",
        "mpg = pd.read_csv(url)\n",
        "\n",
        "mpg.head()\n",
        "\n",
        "\n",
        "#%%\n",
        "# Question 1\n",
        "# I did all the readings and asked my questions on the slack channel\n",
        "\n",
        "# Question 2\n",
        "\n",
        "#%%\n",
        "\n",
        "chart = alt.Chart(mpg).mark_circle().encode(\n",
        "    x='displ', \n",
        "    y='hwy'\n",
        ")\n",
        "\n",
        "chart\n",
        "#%%\n",
        "\n",
        "# Question 3\n",
        "(mpg\n",
        "    .head(5)\n",
        "    .filter([\"manufacturer\", \"model\",\"year\", \"hwy\"]))\n",
        "#%%\n",
        "```"
      ],
      "id": "a1c84147"
    }
  ],
  "metadata": {
    "kernelspec": {
      "display_name": "Python 3",
      "language": "python",
      "name": "python3"
    }
  },
  "nbformat": 4,
  "nbformat_minor": 5
}