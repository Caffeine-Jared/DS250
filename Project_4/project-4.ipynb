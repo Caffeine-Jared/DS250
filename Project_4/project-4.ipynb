{
  "cells": [
    {
      "cell_type": "raw",
      "metadata": {},
      "source": [
        "---\n",
        "title: \"Client Report - Can you predict that?\"\n",
        "subtitle: \"Course DS 250\"\n",
        "author: \"Jared Linares\"\n",
        "format:\n",
        "  html:\n",
        "    self-contained: true\n",
        "    page-layout: full\n",
        "    title-block-banner: true\n",
        "    toc: true\n",
        "    toc-depth: 3\n",
        "    toc-location: body\n",
        "    number-sections: false\n",
        "    html-math-method: katex\n",
        "    code-fold: true\n",
        "    code-summary: \"Show the code\"\n",
        "    code-overflow: wrap\n",
        "    code-copy: hover\n",
        "    code-tools:\n",
        "        source: false\n",
        "        toggle: true\n",
        "        caption: See code\n",
        "    \n",
        "---"
      ],
      "id": "37c384a6"
    },
    {
      "cell_type": "markdown",
      "metadata": {},
      "source": [
        "_THIS `.qmd` FILE SHOULD BE USED TO WRITE YOUR REPORT.  YOU WILL NEED TO COMPILE THE REPORT INTO A `.html` DOCUMENT AND SUBMIT IT ON CANVAS._\n"
      ],
      "id": "11f91deb"
    },
    {
      "cell_type": "code",
      "metadata": {},
      "source": [
        "import matplotlib.pyplot as plt\n",
        "import pandas as pd \n",
        "import altair as alt \n",
        "import numpy as np \n",
        "import altair as alt\n",
        "import seaborn as sns\n",
        "\n",
        "from sklearn.model_selection import train_test_split\n",
        "from sklearn import tree\n",
        "\n",
        "from sklearn import metrics\n",
        "from sklearn.metrics import roc_curve, auc, RocCurveDisplay\n",
        "\n",
        "from IPython.display import Markdown\n",
        "from IPython.display import display\n",
        "from tabulate import tabulate"
      ],
      "id": "15f99e13",
      "execution_count": null,
      "outputs": []
    },
    {
      "cell_type": "markdown",
      "metadata": {},
      "source": [
        "## Elevator pitch\n",
        "\n",
        "_This project uses machine learning techniques to predict whether a dwelling was built before 1980. By analyzing features such as living area, number of bedrooms and bathrooms, and whether the property has a basement, the model is able to accurately predict the age of a dwelling. This type of analysis can be valuable to a range of clients, such as real estate investors, city planners, and housing agencies. It can help them make informed decisions about investing in certain areas, identifying neighborhoods that may be in need of rehabilitation, and ensuring that affordable housing is available to those who need it._\n"
      ],
      "id": "0e58f205"
    },
    {
      "cell_type": "code",
      "metadata": {},
      "source": [
        "dwellings_ml = pd.read_csv('dwellings_ml.csv')\n",
        "dwellings_denver = pd.read_csv('dwellings_denver.csv')\n",
        "dwellings_neighborhoods_ml = pd.read_csv('dwellings_neighborhoods_ml.csv')\n",
        "\n",
        "alt.data_transformers.disable_max_rows()\n",
        "alt.data_transformers.enable('data_server')"
      ],
      "id": "5687628b",
      "execution_count": null,
      "outputs": []
    },
    {
      "cell_type": "markdown",
      "metadata": {},
      "source": [
        "## GRAND QUESTION 1\n",
        "\n",
        "__Create 2-3 charts that evaluate potential relationships between the home variables and before1980.__\n"
      ],
      "id": "bd910910"
    },
    {
      "cell_type": "code",
      "metadata": {},
      "source": [
        "sns.scatterplot(x='finbsmnt', y='basement', hue='before1980', data=dwellings_ml)"
      ],
      "id": "a8fbcafc",
      "execution_count": null,
      "outputs": []
    },
    {
      "cell_type": "code",
      "metadata": {},
      "source": [
        "sns.scatterplot(x='livearea', y='sprice', hue='before1980', data=dwellings_ml)"
      ],
      "id": "9c907392",
      "execution_count": null,
      "outputs": []
    },
    {
      "cell_type": "code",
      "metadata": {},
      "source": [
        "sns.scatterplot(x='livearea', y='totunits', hue='before1980', data=dwellings_ml)"
      ],
      "id": "e62c9e90",
      "execution_count": null,
      "outputs": []
    },
    {
      "cell_type": "markdown",
      "metadata": {},
      "source": [
        "## GRAND QUESTION 2\n",
        "\n",
        "__Build a classification model labeling houses as being built “before 1980” or “during or after 1980”. Your goal is to reach or exceed 90% accuracy. Explain your final model choice (algorithm, tuning parameters, etc) and describe what other models you tried.__\n"
      ],
      "id": "79ca210d"
    },
    {
      "cell_type": "code",
      "metadata": {},
      "source": [
        "X_pred = dwellings_ml.filter(regex='sprice|livearea|finbsmnt|basement|totunits|stories|numbaths|numbdrm|abstrprd')\n",
        "y_pred = dwellings_ml.filter(regex = \"before1980\")\n",
        "X_train, X_test, y_train, y_test = train_test_split(\n",
        "X_pred, y_pred, test_size = .34, random_state = 76)  \n",
        "\n",
        "clf = tree.DecisionTreeClassifier()\n",
        "clf = clf.fit(X_train, y_train)\n",
        "y_pred = clf.predict(X_test)\n",
        "y_probs = clf.predict_proba(X_test)"
      ],
      "id": "6f36bc1b",
      "execution_count": null,
      "outputs": []
    },
    {
      "cell_type": "markdown",
      "metadata": {},
      "source": [
        "## GRAND QUESTION 3\n",
        "\n",
        "__Justify your classification model by discussing the most important features selected by your model. This discussion should include a chart and a description of the features.__\n"
      ],
      "id": "2ac9a06a"
    },
    {
      "cell_type": "code",
      "metadata": {},
      "source": [
        "print(metrics.classification_report(y_pred, y_test))"
      ],
      "id": "9af805b2",
      "execution_count": null,
      "outputs": []
    },
    {
      "cell_type": "code",
      "metadata": {},
      "source": [
        "clf = tree.DecisionTreeClassifier()\n",
        "clf = clf.fit(X_train, y_train)\n",
        "\n",
        "y_probs = clf.predict_proba(X_test)[:, 1]\n",
        "fpr, tpr, thresholds = roc_curve(y_test, y_probs)\n",
        "\n",
        "\n",
        "roc_auc = auc(fpr, tpr)\n",
        "\n",
        "\n",
        "roc_display = RocCurveDisplay(fpr=fpr, tpr=tpr, roc_auc=roc_auc, estimator_name='Decision Tree')\n",
        "roc_display.plot()\n",
        "plt.show()"
      ],
      "id": "97e02bb3",
      "execution_count": null,
      "outputs": []
    },
    {
      "cell_type": "markdown",
      "metadata": {},
      "source": [
        "## GRAND QUESTION 4\n",
        "\n",
        "__Describe the quality of your classification model using 2-3 different evaluation metrics. You also need to explain how to interpret each of the evaluation metrics you use.__\n"
      ],
      "id": "58eb7898"
    },
    {
      "cell_type": "code",
      "metadata": {},
      "source": [
        "df_features = pd.DataFrame(\n",
        "    {'f_names': X_train.columns, \n",
        "    'f_values': clf.feature_importances_}).sort_values('f_values', ascending = False)"
      ],
      "id": "8897f0f2",
      "execution_count": null,
      "outputs": []
    },
    {
      "cell_type": "code",
      "metadata": {},
      "source": [
        "(alt.Chart(df_features.query('f_values > .011'))\n",
        "    .encode(\n",
        "        alt.X('f_values'),\n",
        "        alt.Y('f_names', sort = '-x'))\n",
        "    .mark_bar())"
      ],
      "id": "70e2428c",
      "execution_count": null,
      "outputs": []
    }
  ],
  "metadata": {
    "kernelspec": {
      "name": "python3",
      "language": "python",
      "display_name": "Python 3 (ipykernel)"
    }
  },
  "nbformat": 4,
  "nbformat_minor": 5
}